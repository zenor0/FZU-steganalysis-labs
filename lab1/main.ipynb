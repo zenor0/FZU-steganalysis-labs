{
 "cells": [
  {
   "cell_type": "markdown",
   "metadata": {},
   "source": [
    "1. 写出“将输入的RGB图像分层，并将图像的指定层加强”的描述算法（可参考课本中给的程序）\n",
    "2. 分别显示“image.jpg”的原始图像、R层灰度图像、G层灰度图像、B层灰度图像及R层色彩增强图像 \n",
    "3. 分析数字RGB图像与模拟RGB图像的关系。"
   ]
  },
  {
   "cell_type": "code",
   "execution_count": 19,
   "metadata": {},
   "outputs": [
    {
     "data": {
      "application/vnd.jupyter.widget-view+json": {
       "model_id": "6b2999783bb241f2900fb4a0dbc9e451",
       "version_major": 2,
       "version_minor": 0
      },
      "text/plain": [
       "interactive(children=(FloatSlider(value=1.0, description='red_factor', max=2.0), FloatSlider(value=1.0, descri…"
      ]
     },
     "metadata": {},
     "output_type": "display_data"
    }
   ],
   "source": [
    "from PIL import Image\n",
    "from ipywidgets import interact\n",
    "import matplotlib.pyplot as plt\n",
    "\n",
    "\n",
    "# 读取图像\n",
    "image = Image.open(\"lenna_color.png\")\n",
    "# 将图像分解成R、G、B三个颜色层\n",
    "r, g, b, *_ = image.split()\n",
    "\n",
    "\n",
    "red_factor = 1.5\n",
    "green_factor = 1.0\n",
    "blue_factor = 1.0\n",
    "    \n",
    "def set_image(image, position, title, cmap=None):\n",
    "    plt.subplot(position)\n",
    "    plt.imshow(image, cmap=cmap)\n",
    "    plt.axis(\"off\")\n",
    "    plt.title(title)\n",
    "\n",
    "def enhance_channel(channel, factor):\n",
    "    enhanced_channel = channel.point(lambda i: i * factor)\n",
    "    enhanced_channel = enhanced_channel.point(lambda i: min(255, i))\n",
    "    return enhanced_channel\n",
    "\n",
    "@interact(red_factor=(0.0, 2.0, 0.1), green_factor=(0.0, 2.0, 0.1), blue_factor=(0.0, 2.0, 0.1))\n",
    "def update(red_factor=1.0, green_factor=1.0, blue_factor=1.0):\n",
    "    plt.figure(figsize=(20, 5))\n",
    "    original_image = Image.merge(\"RGB\", (r, g, b))\n",
    "    set_image(original_image, 151, \"Original Image\")\n",
    "    r_enh = enhance_channel(r, red_factor)\n",
    "    g_enh = enhance_channel(g, green_factor)\n",
    "    b_enh = enhance_channel(b, blue_factor)\n",
    "    enhanced_image = Image.merge(\"RGB\", (r_enh, g_enh, b_enh))\n",
    "    set_image(enhanced_image, 152, \"Enhanced Image\")\n",
    "    set_image(r_enh, 153, \"Red Channel\", cmap=\"gray\")\n",
    "    set_image(g_enh, 154, \"Green Channel\", cmap=\"gray\")\n",
    "    set_image(b_enh, 155, \"Blue Channel\", cmap=\"gray\")\n",
    "    plt.savefig(\"enhanced_image.png\")\n",
    "    plt.show()\n",
    "\n"
   ]
  }
 ],
 "metadata": {
  "kernelspec": {
   "display_name": "Python 3",
   "language": "python",
   "name": "python3"
  },
  "language_info": {
   "codemirror_mode": {
    "name": "ipython",
    "version": 3
   },
   "file_extension": ".py",
   "mimetype": "text/x-python",
   "name": "python",
   "nbconvert_exporter": "python",
   "pygments_lexer": "ipython3",
   "version": "3.10.12"
  }
 },
 "nbformat": 4,
 "nbformat_minor": 2
}
